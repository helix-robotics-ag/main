{
 "cells": [
  {
   "cell_type": "markdown",
   "metadata": {},
   "source": [
    "# Helix demo using Python scripting and `roslibpy`\n",
    "This notebook contains instructions and step by step examples on how to use functions associated to Helix v1 and troubleshooting in case of failure. This notebook should be executed one cell at a time while checking that outputs are coherent.\n",
    "## Setup\n",
    "### Connect to Pi's rosbridge server"
   ]
  },
  {
   "cell_type": "code",
   "execution_count": null,
   "metadata": {},
   "outputs": [],
   "source": [
    "import roslibpy\n",
    "import time\n",
    "import numpy as np\n",
    "\n",
    "# Connect to the Pi's rosbridge server over port 9090\n",
    "client = roslibpy.Ros(host='192.168.86.161', port=9090) # The host is the Pi's IP address\n",
    "client.run()\n",
    "\n",
    "# Check that the connecting worked\n",
    "print('Is ROS connected?', client.is_connected)"
   ]
  },
  {
   "cell_type": "markdown",
   "metadata": {},
   "source": [
    "If the output is: `Is ROS connected ? True`, proceed to the next step. If not, check the host and port addresses, and make sure that all docker containers on the RPi are running correctly (check documentation [here](https://github.com/helix-robotics-ag/ros-helix/tree/main))\n",
    "\n",
    "### Check available topics and services\n",
    "\n",
    "Verify that all desired topics and services are available - in particular, there should be a range of topics and services under the namespace `/tendon_transmission_node`"
   ]
  },
  {
   "cell_type": "code",
   "execution_count": null,
   "metadata": {},
   "outputs": [],
   "source": [
    "# Check which topics can be seen\n",
    "print('ROS Topics: ', client.get_topics())\n",
    "\n",
    "# Check which services can be seen\n",
    "print('ROS Services: ', client.get_services())"
   ]
  },
  {
   "cell_type": "markdown",
   "metadata": {},
   "source": [
    "## Calibration\n",
    "\n",
    "For now the calibration is done through different functions depending on the state of the manipulator. The workflow will be roughly as follows:\n",
    "1. Loosen up all tendons and make the arm roughly straight\n",
    "2. Add tension to the tendons and straighten up the manipulator to it's zero state\n",
    "3. Create or update existing calibration file\n",
    "\n",
    "### Loosen up all tendons\n",
    "\n",
    "This step is required if some tendons are tense and the arm isn't straight. First, the controller needs to be set to current control mode."
   ]
  },
  {
   "cell_type": "code",
   "execution_count": null,
   "metadata": {},
   "outputs": [],
   "source": [
    "# Switch to current control\n",
    "srv = roslibpy.Service(client, '/tendon_transmission_node/switch_to_current_control', 'std_srvs/Trigger')\n",
    "req = roslibpy.ServiceRequest()\n",
    "result = srv.call(req)\n",
    "print(result)"
   ]
  },
  {
   "cell_type": "markdown",
   "metadata": {},
   "source": [
    "Then use the following service to release the tension: "
   ]
  },
  {
   "cell_type": "code",
   "execution_count": null,
   "metadata": {},
   "outputs": [],
   "source": [
    "# Unwind tendon\n",
    "srv = roslibpy.Service(client, '/tendon_transmission_node/set_current', 'helix_transmission_interfaces/SetCurrent')\n",
    "req = roslibpy.ServiceRequest({\"current\" : 3.0}) # 3mA is the smallest current that can be applied. A positive value loosens the tendons.\n",
    "result = srv.call(req)\n",
    "print(result)"
   ]
  },
  {
   "cell_type": "markdown",
   "metadata": {},
   "source": [
    "Stop the motors when tendons are no longer tense:"
   ]
  },
  {
   "cell_type": "code",
   "execution_count": null,
   "metadata": {},
   "outputs": [],
   "source": [
    "# Stop motors from turning\n",
    "srv = roslibpy.Service(client, '/tendon_transmission_node/set_current', 'helix_transmission_interfaces/SetCurrent')\n",
    "req = roslibpy.ServiceRequest({\"current\" : 0.0})\n",
    "result = srv.call(req)\n",
    "print(result)"
   ]
  },
  {
   "cell_type": "markdown",
   "metadata": {},
   "source": [
    "### Add tension to the arm"
   ]
  },
  {
   "cell_type": "code",
   "execution_count": null,
   "metadata": {},
   "outputs": [],
   "source": [
    "# Add tension\n",
    "srv = roslibpy.Service(client, '/tendon_transmission_node/set_current', 'helix_transmission_interfaces/SetCurrent')\n",
    "req = roslibpy.ServiceRequest({\"current\" : -70.0})\n",
    "result = srv.call(req)\n",
    "print(result)"
   ]
  },
  {
   "cell_type": "markdown",
   "metadata": {},
   "source": [
    "### Straighten the arm and update the calibration file\n",
    "\n",
    "After moving the manipulator to the desired zero position, save the calibration file:"
   ]
  },
  {
   "cell_type": "code",
   "execution_count": null,
   "metadata": {},
   "outputs": [],
   "source": [
    "# Save calibration file\n",
    "srv = roslibpy.Service(client, '/tendon_transmission_node/set_motor_offsets', 'std_srvs/Trigger')\n",
    "req = roslibpy.ServiceRequest()\n",
    "result = srv.call(req)\n",
    "print(result)"
   ]
  },
  {
   "cell_type": "markdown",
   "metadata": {},
   "source": [
    "The controller can then be switched back to position control."
   ]
  },
  {
   "cell_type": "code",
   "execution_count": null,
   "metadata": {},
   "outputs": [],
   "source": [
    "# Switch back to position control\n",
    "srv = roslibpy.Service(client, '/tendon_transmission_node/switch_to_position_control', 'std_srvs/Trigger')\n",
    "req = roslibpy.ServiceRequest()\n",
    "result = srv.call(req)\n",
    "print(result)"
   ]
  },
  {
   "cell_type": "markdown",
   "metadata": {},
   "source": [
    "### Checking the calibration after shutting down\n",
    "\n",
    "When the motors are powered down, their absolute position might be lost. To detect and compensate for this when they are turned back on, the above steps should be followed up until 'Add tension to the arm', and then the 'check_calibration' service should be called, which will check for and correct the discrepancy. "
   ]
  },
  {
   "cell_type": "code",
   "execution_count": null,
   "metadata": {},
   "outputs": [],
   "source": [
    "# Check old calibration\n",
    "srv = roslibpy.Service(client, '/tendon_transmission_node/check_calibration', 'std_srvs/Trigger')\n",
    "req = roslibpy.ServiceRequest()\n",
    "result = srv.call(req)\n",
    "print(result)\n",
    "\n",
    "# Switch back to position control\n",
    "srv = roslibpy.Service(client, '/tendon_transmission_node/switch_to_position_control', 'std_srvs/Trigger')\n",
    "req = roslibpy.ServiceRequest()\n",
    "result = srv.call(req)\n",
    "print(result)"
   ]
  },
  {
   "cell_type": "markdown",
   "metadata": {},
   "source": [
    "## Tendon length control\n",
    "\n",
    "### Simple example to read and command tendon lengths on the ROS topics"
   ]
  },
  {
   "cell_type": "code",
   "execution_count": null,
   "metadata": {},
   "outputs": [],
   "source": [
    "# Subscribe to the tendon state information topic\n",
    "listener = roslibpy.Topic(client, '/tendon_transmission_node/tendon_states', 'sensor_msgs/msg/JointState')\n",
    "def listener_callback(message):\n",
    "    print('Reading from /tendon_transmission_node/tendon_states')\n",
    "    global joint_names \n",
    "    joint_names = message['name']\n",
    "    global tendon_positions\n",
    "    tendon_positions = message['position']\n",
    "    # Stop listening after the first message\n",
    "    listener.unsubscribe()\n",
    "\n",
    "# Advertise to the command topic on the tendon transmission controller\n",
    "talker = roslibpy.Topic(client, '/tendon_transmission_node/commands', 'std_msgs/msg/Float64MultiArray')"
   ]
  },
  {
   "cell_type": "markdown",
   "metadata": {},
   "source": [
    "After setting up the subscriber and publisher, listen for a tendon state message"
   ]
  },
  {
   "cell_type": "code",
   "execution_count": null,
   "metadata": {},
   "outputs": [],
   "source": [
    "listener.subscribe(listener_callback)\n",
    "\n",
    "# Wait to receive message on /tendon_transmission_node/tendon_states\n",
    "time.sleep(1)\n",
    "\n",
    "# The listener callback has executed by now\n",
    "print('Read joint names: ', joint_names)\n",
    "print('Read tendon positions: ', tendon_positions)"
   ]
  },
  {
   "cell_type": "markdown",
   "metadata": {},
   "source": [
    "Assuming the arm has just been calibrated, or the calibration has just been checked, all tendon states printed above should be close to 0 (within +/-0.03, ie 3cm).\n",
    "\n",
    "After checking this, publish a command to put the arm in the zero position."
   ]
  },
  {
   "cell_type": "code",
   "execution_count": null,
   "metadata": {},
   "outputs": [],
   "source": [
    "talker.publish(roslibpy.Message({'data': [0,0,0,0,0,0,0,0,0]}))"
   ]
  },
  {
   "cell_type": "markdown",
   "metadata": {},
   "source": [
    "And send other commands; the example below tightens the `joint8` tendon by 2cm, relative to the zero state."
   ]
  },
  {
   "cell_type": "code",
   "execution_count": null,
   "metadata": {},
   "outputs": [],
   "source": [
    "talker.publish(roslibpy.Message({'data': [0,0,0,0,0,0,0,0,-0.02]}))"
   ]
  },
  {
   "cell_type": "markdown",
   "metadata": {},
   "source": [
    "### An example of interpolating a joint trajectory, instead of commanding a step input."
   ]
  },
  {
   "cell_type": "code",
   "execution_count": null,
   "metadata": {},
   "outputs": [],
   "source": [
    "# Create start position\n",
    "zero = [0,0,0,0,0,0,0,0,0] \n",
    "\n",
    "# Create end position\n",
    "j = [0,0,0,0,0,0,0,0,0]\n",
    "j[1] = -0.02\n",
    "j[4] = -0.03\n",
    "j[7] = -0.04\n",
    "\n",
    "# Create slowed down trajectory\n",
    "T = 3 # time to move from zero to desired position (in seconds)\n",
    "Update_freq = 50 # Update frequency of the commands (in Hertz) TODO: Test different update frequencies\n",
    "Dxl_Positions = np.linspace(zero, j, num=T*Update_freq)\n",
    "\n",
    "# Publish position commands\n",
    "for ele in Dxl_Positions:\n",
    "    talker.publish(roslibpy.Message({'data': list(ele)}))\n",
    "    time.sleep(1/Update_freq)"
   ]
  },
  {
   "cell_type": "markdown",
   "metadata": {},
   "source": [
    "Terminate client after finishing the program"
   ]
  },
  {
   "cell_type": "code",
   "execution_count": null,
   "metadata": {},
   "outputs": [],
   "source": [
    "client.terminate()"
   ]
  }
 ],
 "metadata": {
  "kernelspec": {
   "display_name": "Python 3",
   "language": "python",
   "name": "python3"
  },
  "language_info": {
   "codemirror_mode": {
    "name": "ipython",
    "version": 3
   },
   "file_extension": ".py",
   "mimetype": "text/x-python",
   "name": "python",
   "nbconvert_exporter": "python",
   "pygments_lexer": "ipython3",
   "version": "3.10.12"
  }
 },
 "nbformat": 4,
 "nbformat_minor": 2
}
