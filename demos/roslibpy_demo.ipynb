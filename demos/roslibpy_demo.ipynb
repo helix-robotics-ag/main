{
 "cells": [
  {
   "cell_type": "markdown",
   "metadata": {},
   "source": [
    "# Helix demo using Python scripting and `roslibpy`\n",
    "This notebook contains instructions and step by step examples on how to use functions associated to Helix v1 and troubleshooting in case of failure. This notebook should be executed one cell at a time while checking that outputs are coherent.\n",
    "## Setup\n",
    "### Connect to Pi's rosbridge server"
   ]
  },
  {
   "cell_type": "code",
   "execution_count": 1,
   "metadata": {},
   "outputs": [
    {
     "name": "stdout",
     "output_type": "stream",
     "text": [
      "Is ROS connected? True\n"
     ]
    }
   ],
   "source": [
    "import roslibpy\n",
    "import time\n",
    "import numpy as np\n",
    "\n",
    "# Connect to the Pi's rosbridge server over port 9090\n",
    "client = roslibpy.Ros(host='localhost', port=9090) # The host is the Pi's IP address\n",
    "client.run()\n",
    "\n",
    "# Check that the connecting worked\n",
    "print('Is ROS connected?', client.is_connected)"
   ]
  },
  {
   "cell_type": "markdown",
   "metadata": {},
   "source": [
    "If the output is: `Is ROS connected ? True`, proceed to the next step. If not, check the host and port addresses, and make sure that all docker containers on the RPi are running correctly (check instructions for launching the containers [here](https://github.com/helix-robotics-ag/ros-helix/tree/main))\n",
    "\n",
    "### Check available topics and services\n",
    "\n",
    "Verify that all desired topics and services are available - in particular, there should be a range of topics and services under the namespace `/tendon_transmission_node`"
   ]
  },
  {
   "cell_type": "code",
   "execution_count": 2,
   "metadata": {},
   "outputs": [
    {
     "name": "stdout",
     "output_type": "stream",
     "text": [
      "ROS Topics:  ['/clicked_point', '/client_count', '/connected_clients', '/diagnostics', '/gripper_joint_position_controller/commands', '/gripper_joint_position_controller/transition_event', '/gripper_joint_state_broadcaster/dynamic_joint_states', '/gripper_joint_state_broadcaster/joint_states', '/gripper_joint_state_broadcaster/transition_event', '/helix_cartesian_control_node/cartesian_state', '/helix_cartesian_control_node/delta_increment', '/helix_cartesian_control_node/dxdyl_command', '/helix_cartesian_control_node/dxdyl_state', '/helix_gripper_node/command_increment', '/initialpose', '/joint_states', '/motor_head_joint_effort_controller/commands', '/motor_head_joint_effort_controller/transition_event', '/motor_head_joint_position_controller/commands', '/motor_head_joint_position_controller/transition_event', '/motor_head_joint_state_broadcaster/dynamic_joint_states', '/motor_head_joint_state_broadcaster/joint_states', '/motor_head_joint_state_broadcaster/transition_event', '/move_base_simple/goal', '/parameter_events', '/robot_description', '/rosout', '/spacenav/joy', '/spacenav/offset', '/spacenav/rot_offset', '/spacenav/twist', '/tendon_transmission_node/commands', '/tendon_transmission_node/tendon_states', '/tf', '/tf_static']\n",
      "ROS Services:  ['/controller_manager/configure_controller', '/controller_manager/describe_parameters', '/controller_manager/get_parameter_types', '/controller_manager/get_parameters', '/controller_manager/get_type_description', '/controller_manager/list_controller_types', '/controller_manager/list_controllers', '/controller_manager/list_hardware_components', '/controller_manager/list_hardware_interfaces', '/controller_manager/list_parameters', '/controller_manager/load_controller', '/controller_manager/reload_controller_libraries', '/controller_manager/set_hardware_component_state', '/controller_manager/set_parameters', '/controller_manager/set_parameters_atomically', '/controller_manager/switch_controller', '/controller_manager/unload_controller', '/foxglove_bridge/describe_parameters', '/foxglove_bridge/get_parameter_types', '/foxglove_bridge/get_parameters', '/foxglove_bridge/get_type_description', '/foxglove_bridge/list_parameters', '/foxglove_bridge/set_parameters', '/foxglove_bridge/set_parameters_atomically', '/foxglove_bridge_component_manager/get_type_description', '/gripper_joint_position_controller/describe_parameters', '/gripper_joint_position_controller/get_parameter_types', '/gripper_joint_position_controller/get_parameters', '/gripper_joint_position_controller/get_type_description', '/gripper_joint_position_controller/list_parameters', '/gripper_joint_position_controller/set_parameters', '/gripper_joint_position_controller/set_parameters_atomically', '/gripper_joint_state_broadcaster/describe_parameters', '/gripper_joint_state_broadcaster/get_parameter_types', '/gripper_joint_state_broadcaster/get_parameters', '/gripper_joint_state_broadcaster/get_type_description', '/gripper_joint_state_broadcaster/list_parameters', '/gripper_joint_state_broadcaster/set_parameters', '/gripper_joint_state_broadcaster/set_parameters_atomically', '/helix_cartesian_control_node/activate_joystick_control', '/helix_cartesian_control_node/deactivate_joystick_control', '/helix_cartesian_control_node/describe_parameters', '/helix_cartesian_control_node/get_parameter_types', '/helix_cartesian_control_node/get_parameters', '/helix_cartesian_control_node/get_type_description', '/helix_cartesian_control_node/go_to_gripper_pose_euler', '/helix_cartesian_control_node/go_to_gripper_pose_quat', '/helix_cartesian_control_node/go_to_gripper_pose_vector', '/helix_cartesian_control_node/list_parameters', '/helix_cartesian_control_node/reset_model', '/helix_cartesian_control_node/set_parameters', '/helix_cartesian_control_node/set_parameters_atomically', '/helix_gripper_node/describe_parameters', '/helix_gripper_node/get_parameter_types', '/helix_gripper_node/get_parameters', '/helix_gripper_node/get_type_description', '/helix_gripper_node/list_parameters', '/helix_gripper_node/set_parameters', '/helix_gripper_node/set_parameters_atomically', '/joint_state_publisher/describe_parameters', '/joint_state_publisher/get_parameter_types', '/joint_state_publisher/get_parameters', '/joint_state_publisher/get_type_description', '/joint_state_publisher/list_parameters', '/joint_state_publisher/set_parameters', '/joint_state_publisher/set_parameters_atomically', '/motor_head_joint_effort_controller/describe_parameters', '/motor_head_joint_effort_controller/get_parameter_types', '/motor_head_joint_effort_controller/get_parameters', '/motor_head_joint_effort_controller/get_type_description', '/motor_head_joint_effort_controller/list_parameters', '/motor_head_joint_effort_controller/set_parameters', '/motor_head_joint_effort_controller/set_parameters_atomically', '/motor_head_joint_position_controller/describe_parameters', '/motor_head_joint_position_controller/get_parameter_types', '/motor_head_joint_position_controller/get_parameters', '/motor_head_joint_position_controller/get_type_description', '/motor_head_joint_position_controller/list_parameters', '/motor_head_joint_position_controller/set_parameters', '/motor_head_joint_position_controller/set_parameters_atomically', '/motor_head_joint_state_broadcaster/describe_parameters', '/motor_head_joint_state_broadcaster/get_parameter_types', '/motor_head_joint_state_broadcaster/get_parameters', '/motor_head_joint_state_broadcaster/get_type_description', '/motor_head_joint_state_broadcaster/list_parameters', '/motor_head_joint_state_broadcaster/set_parameters', '/motor_head_joint_state_broadcaster/set_parameters_atomically', '/robot_state_publisher/describe_parameters', '/robot_state_publisher/get_parameter_types', '/robot_state_publisher/get_parameters', '/robot_state_publisher/get_type_description', '/robot_state_publisher/list_parameters', '/robot_state_publisher/set_parameters', '/robot_state_publisher/set_parameters_atomically', '/rosapi/action_servers', '/rosapi/delete_param', '/rosapi/describe_parameters', '/rosapi/get_param', '/rosapi/get_param_names', '/rosapi/get_parameter_types', '/rosapi/get_parameters', '/rosapi/get_ros_version', '/rosapi/get_time', '/rosapi/get_type_description', '/rosapi/has_param', '/rosapi/list_parameters', '/rosapi/message_details', '/rosapi/node_details', '/rosapi/nodes', '/rosapi/publishers', '/rosapi/service_node', '/rosapi/service_providers', '/rosapi/service_request_details', '/rosapi/service_response_details', '/rosapi/service_type', '/rosapi/services', '/rosapi/services_for_type', '/rosapi/set_param', '/rosapi/set_parameters', '/rosapi/set_parameters_atomically', '/rosapi/subscribers', '/rosapi/topic_type', '/rosapi/topics', '/rosapi/topics_and_raw_types', '/rosapi/topics_for_type', '/rosapi_params/describe_parameters', '/rosapi_params/get_parameter_types', '/rosapi_params/get_parameters', '/rosapi_params/get_type_description', '/rosapi_params/list_parameters', '/rosapi_params/set_parameters', '/rosapi_params/set_parameters_atomically', '/rosbridge_websocket/describe_parameters', '/rosbridge_websocket/get_parameter_types', '/rosbridge_websocket/get_parameters', '/rosbridge_websocket/get_type_description', '/rosbridge_websocket/list_parameters', '/rosbridge_websocket/set_parameters', '/rosbridge_websocket/set_parameters_atomically', '/spacenav_node/describe_parameters', '/spacenav_node/get_parameter_types', '/spacenav_node/get_parameters', '/spacenav_node/get_type_description', '/spacenav_node/list_parameters', '/spacenav_node/set_parameters', '/spacenav_node/set_parameters_atomically', '/tendon_transmission_node/check_calibration', '/tendon_transmission_node/describe_parameters', '/tendon_transmission_node/get_parameter_types', '/tendon_transmission_node/get_parameters', '/tendon_transmission_node/get_type_description', '/tendon_transmission_node/list_parameters', '/tendon_transmission_node/set_current', '/tendon_transmission_node/set_motor_offsets', '/tendon_transmission_node/set_parameters', '/tendon_transmission_node/set_parameters_atomically', '/tendon_transmission_node/switch_to_current_control', '/tendon_transmission_node/switch_to_position_control']\n"
     ]
    }
   ],
   "source": [
    "# Check which topics can be seen\n",
    "print('ROS Topics: ', client.get_topics())\n",
    "\n",
    "# Check which services can be seen\n",
    "print('ROS Services: ', client.get_services())"
   ]
  },
  {
   "cell_type": "markdown",
   "metadata": {},
   "source": [
    "## Calibration\n",
    "\n",
    "For now the calibration is done through different functions depending on the state of the manipulator. The workflow will be roughly as follows:\n",
    "1. Loosen up all tendons and make the arm roughly straight\n",
    "2. Add tension to the tendons and straighten up the manipulator to it's zero state\n",
    "3. Create or update existing calibration file\n",
    "\n",
    "### Loosen up all tendons\n",
    "\n",
    "This step is required if some tendons are tense and the arm isn't straight. First, the controller needs to be set to current control mode."
   ]
  },
  {
   "cell_type": "code",
   "execution_count": null,
   "metadata": {},
   "outputs": [],
   "source": [
    "# Switch to current control\n",
    "srv = roslibpy.Service(client, '/tendon_transmission_node/switch_to_current_control', 'std_srvs/Trigger')\n",
    "req = roslibpy.ServiceRequest()\n",
    "result = srv.call(req)\n",
    "print(result)"
   ]
  },
  {
   "cell_type": "markdown",
   "metadata": {},
   "source": [
    "Then use the following service to release the tension: "
   ]
  },
  {
   "cell_type": "code",
   "execution_count": null,
   "metadata": {},
   "outputs": [],
   "source": [
    "# Unwind tendon\n",
    "srv = roslibpy.Service(client, '/tendon_transmission_node/set_current', 'helix_transmission_interfaces/SetCurrent')\n",
    "req = roslibpy.ServiceRequest({\"current\" : 3.0}) # 3mA is the smallest current that can be applied. A positive value loosens the tendons.\n",
    "result = srv.call(req)\n",
    "print(result)"
   ]
  },
  {
   "cell_type": "markdown",
   "metadata": {},
   "source": [
    "Stop the motors when tendons are no longer tense:"
   ]
  },
  {
   "cell_type": "code",
   "execution_count": null,
   "metadata": {},
   "outputs": [],
   "source": [
    "# Stop motors from turning\n",
    "srv = roslibpy.Service(client, '/tendon_transmission_node/set_current', 'helix_transmission_interfaces/SetCurrent')\n",
    "req = roslibpy.ServiceRequest({\"current\" : 0.0})\n",
    "result = srv.call(req)\n",
    "print(result)"
   ]
  },
  {
   "cell_type": "markdown",
   "metadata": {},
   "source": [
    "### Add tension to the arm"
   ]
  },
  {
   "cell_type": "code",
   "execution_count": null,
   "metadata": {},
   "outputs": [],
   "source": [
    "# Add tension\n",
    "srv = roslibpy.Service(client, '/tendon_transmission_node/set_current', 'helix_transmission_interfaces/SetCurrent')\n",
    "req = roslibpy.ServiceRequest({\"current\" : -70.0})\n",
    "result = srv.call(req)\n",
    "print(result)"
   ]
  },
  {
   "cell_type": "markdown",
   "metadata": {},
   "source": [
    "### Straighten the arm and update the calibration file\n",
    "\n",
    "After moving the manipulator to the desired zero position, save the calibration file:"
   ]
  },
  {
   "cell_type": "code",
   "execution_count": null,
   "metadata": {},
   "outputs": [],
   "source": [
    "# Save calibration file\n",
    "srv = roslibpy.Service(client, '/tendon_transmission_node/set_motor_offsets', 'std_srvs/Trigger')\n",
    "req = roslibpy.ServiceRequest()\n",
    "result = srv.call(req)\n",
    "print(result)"
   ]
  },
  {
   "cell_type": "markdown",
   "metadata": {},
   "source": [
    "The controller can then be switched back to position control."
   ]
  },
  {
   "cell_type": "code",
   "execution_count": null,
   "metadata": {},
   "outputs": [],
   "source": [
    "# Switch back to position control\n",
    "srv = roslibpy.Service(client, '/tendon_transmission_node/switch_to_position_control', 'std_srvs/Trigger')\n",
    "req = roslibpy.ServiceRequest()\n",
    "result = srv.call(req)\n",
    "print(result)"
   ]
  },
  {
   "cell_type": "markdown",
   "metadata": {},
   "source": [
    "### Checking the calibration after shutting down\n",
    "\n",
    "When the motors are powered down, their absolute position might be lost. To detect and compensate for this when they are turned back on, the above steps should be followed up until 'Add tension to the arm', and then the 'check_calibration' service should be called, which will check for and correct the discrepancy. "
   ]
  },
  {
   "cell_type": "code",
   "execution_count": null,
   "metadata": {},
   "outputs": [],
   "source": [
    "# Check old calibration\n",
    "srv = roslibpy.Service(client, '/tendon_transmission_node/check_calibration', 'std_srvs/Trigger')\n",
    "req = roslibpy.ServiceRequest()\n",
    "result = srv.call(req)\n",
    "print(result)\n",
    "\n",
    "# Switch back to position control\n",
    "srv = roslibpy.Service(client, '/tendon_transmission_node/switch_to_position_control', 'std_srvs/Trigger')\n",
    "req = roslibpy.ServiceRequest()\n",
    "result = srv.call(req)\n",
    "print(result)"
   ]
  },
  {
   "cell_type": "markdown",
   "metadata": {},
   "source": [
    "## Tendon length control\n",
    "\n",
    "### Simple example to read and command tendon lengths on the ROS topics"
   ]
  },
  {
   "cell_type": "code",
   "execution_count": null,
   "metadata": {},
   "outputs": [],
   "source": [
    "# Subscribe to the tendon state information topic\n",
    "listener = roslibpy.Topic(client, '/tendon_transmission_node/tendon_states', 'sensor_msgs/msg/JointState')\n",
    "def listener_callback(message):\n",
    "    print('Reading from /tendon_transmission_node/tendon_states')\n",
    "    global joint_names \n",
    "    joint_names = message['name']\n",
    "    global tendon_positions\n",
    "    tendon_positions = message['position']\n",
    "    # Stop listening after the first message\n",
    "    listener.unsubscribe()\n",
    "\n",
    "# Advertise to the command topic on the tendon transmission controller\n",
    "talker = roslibpy.Topic(client, '/tendon_transmission_node/commands', 'std_msgs/msg/Float64MultiArray')"
   ]
  },
  {
   "cell_type": "markdown",
   "metadata": {},
   "source": [
    "After setting up the subscriber and publisher, listen for a tendon state message"
   ]
  },
  {
   "cell_type": "code",
   "execution_count": null,
   "metadata": {},
   "outputs": [],
   "source": [
    "listener.subscribe(listener_callback)\n",
    "\n",
    "# Wait to receive message on /tendon_transmission_node/tendon_states\n",
    "time.sleep(1)\n",
    "\n",
    "# The listener callback has executed by now\n",
    "print('Read joint names: ', joint_names)\n",
    "print('Read tendon positions: ', tendon_positions)"
   ]
  },
  {
   "cell_type": "markdown",
   "metadata": {},
   "source": [
    "Assuming the arm has just been calibrated, or the calibration has just been checked, all tendon states printed above should be close to 0 (within +/-0.03, ie 3cm).\n",
    "\n",
    "After checking this, publish a command to put the arm in the zero position."
   ]
  },
  {
   "cell_type": "code",
   "execution_count": null,
   "metadata": {},
   "outputs": [],
   "source": [
    "talker.publish(roslibpy.Message({'data': [0,0,0,0,0,0,0,0,0]}))"
   ]
  },
  {
   "cell_type": "markdown",
   "metadata": {},
   "source": [
    "And send other commands; the example below tightens the `joint8` tendon by 2cm, relative to the zero state."
   ]
  },
  {
   "cell_type": "code",
   "execution_count": null,
   "metadata": {},
   "outputs": [],
   "source": [
    "talker.publish(roslibpy.Message({'data': [0,0,0,0,0,0,0,0,-0.02]}))"
   ]
  },
  {
   "cell_type": "markdown",
   "metadata": {},
   "source": [
    "### An example of interpolating a joint trajectory, instead of commanding a step input."
   ]
  },
  {
   "cell_type": "code",
   "execution_count": null,
   "metadata": {},
   "outputs": [],
   "source": [
    "# Create start position\n",
    "zero = [0,0,0,0,0,0,0,0,0] \n",
    "\n",
    "# Create end position\n",
    "j = [0,0,0,0,0,0,0,0,0]\n",
    "j[1] = -0.02\n",
    "j[4] = -0.03\n",
    "j[7] = -0.04\n",
    "\n",
    "# Create slowed down trajectory\n",
    "T = 3 # time to move from zero to desired position (in seconds)\n",
    "Update_freq = 50 # Update frequency of the commands (in Hertz). Note: Internally ROS writes to the motors at (max) 100Hz\n",
    "Dxl_Positions = np.linspace(zero, j, num=T*Update_freq)\n",
    "\n",
    "# Publish position commands\n",
    "for ele in Dxl_Positions:\n",
    "    talker.publish(roslibpy.Message({'data': list(ele)}))\n",
    "    time.sleep(1/Update_freq)"
   ]
  },
  {
   "cell_type": "markdown",
   "metadata": {},
   "source": [
    "# Cartesian Control\n",
    "\n",
    "### Incremental control - joystick\n",
    "\n",
    "If the SpaceMouse is connected to the Pi, calling the service below will turn on teleoperation of the end effector."
   ]
  },
  {
   "cell_type": "code",
   "execution_count": null,
   "metadata": {},
   "outputs": [],
   "source": [
    "srv = roslibpy.Service(client, '/helix_cartesian_control_node/activate_joystick_control', 'std_srvs/Trigger')\n",
    "req = roslibpy.ServiceRequest()\n",
    "result = srv.call(req)\n",
    "print(result)"
   ]
  },
  {
   "cell_type": "markdown",
   "metadata": {},
   "source": [
    "Now test moving the joystick around. The commands are sent in the 'origin' frame.\n",
    "\n",
    "Turn off the joystick control, otherwise it will conflict with other Cartesian control."
   ]
  },
  {
   "cell_type": "code",
   "execution_count": null,
   "metadata": {},
   "outputs": [],
   "source": [
    "srv = roslibpy.Service(client, '/helix_cartesian_control_node/deactivate_joystick_control', 'std_srvs/Trigger')\n",
    "req = roslibpy.ServiceRequest()\n",
    "result = srv.call(req)\n",
    "print(result)"
   ]
  },
  {
   "cell_type": "markdown",
   "metadata": {},
   "source": [
    "### Incremental control - manual\n",
    "You can also manually send incremental Cartesian control commands."
   ]
  },
  {
   "cell_type": "code",
   "execution_count": 139,
   "metadata": {},
   "outputs": [],
   "source": [
    "# Create the publisher and message\n",
    "increment_pub = roslibpy.Topic(client, '/helix_cartesian_control_node/delta_increment', 'geometry_msgs/msgs/TwistStamped')\n",
    "twist_msg = roslibpy.Message({\n",
    "    \"twist\": {\n",
    "        \"linear\": {\"x\": 0, \"y\": 0, \"z\": 0.002}, # Up 2mm\n",
    "        \"angular\": {\"x\": 0.03, \"y\": 0, \"z\": 0}  # Rotate 0.03 rad around X axis\n",
    "    }\n",
    "})"
   ]
  },
  {
   "cell_type": "code",
   "execution_count": 152,
   "metadata": {},
   "outputs": [],
   "source": [
    "# Publish the message (run multiple times to keep moving)\n",
    "increment_pub.publish(twist_msg)"
   ]
  },
  {
   "cell_type": "markdown",
   "metadata": {},
   "source": [
    "By default, the messages are sent in the 'origin' frame, but can be in any other valid frame."
   ]
  },
  {
   "cell_type": "code",
   "execution_count": 133,
   "metadata": {},
   "outputs": [],
   "source": [
    "twist_msg = roslibpy.Message({\n",
    "    \"header\": {\n",
    "        \"frame_id\":\"arm_base\"\n",
    "    },\n",
    "    \"twist\": {\n",
    "        \"linear\": {\"x\": 0, \"y\": 0, \"z\": 0.002},\n",
    "        \"angular\": {\"x\": -0.03, \"y\": 0, \"z\": 0}\n",
    "    }\n",
    "})"
   ]
  },
  {
   "cell_type": "code",
   "execution_count": 138,
   "metadata": {},
   "outputs": [],
   "source": [
    "increment_pub.publish(twist_msg)"
   ]
  },
  {
   "cell_type": "markdown",
   "metadata": {},
   "source": [
    "### Cartesian Pose to Pose Control\n",
    "\n",
    "The below cells show how to call the services to move the end effector to a goal, using the different direction specifications, and options for goal frame and linear trajectroy planning."
   ]
  },
  {
   "cell_type": "code",
   "execution_count": 73,
   "metadata": {},
   "outputs": [
    {
     "name": "stdout",
     "output_type": "stream",
     "text": [
      "{'success': True, 'message': 'Model and robot reset to calibration state'}\n"
     ]
    }
   ],
   "source": [
    "### Reset the model and robot to calibrated zero position\n",
    "srv = roslibpy.Service(client, '/helix_cartesian_control_node/reset_model', 'std_srvs/Trigger')\n",
    "req = roslibpy.ServiceRequest()\n",
    "result = srv.call(req)\n",
    "print(result)"
   ]
  },
  {
   "cell_type": "code",
   "execution_count": 14,
   "metadata": {},
   "outputs": [
    {
     "name": "stdout",
     "output_type": "stream",
     "text": [
      "{'success': True, 'message': 'Sucessfully planned to 1 of 1 path points.'}\n"
     ]
    }
   ],
   "source": [
    "### Move to a goal point with the gripper direction defined by a vector\n",
    "srv = roslibpy.Service(client, '/helix_cartesian_control_node/go_to_gripper_pose_vector', 'helix_transmission_interfaces/GoToGripperPoseVector')\n",
    "req = roslibpy.ServiceRequest({\n",
    "  \"goal_point\":{\"x\": 0, \"y\": 0.25, \"z\": -0.4},\n",
    "  \"goal_direction\":{\"x\": 0, \"y\": 1, \"z\": 0}\n",
    "})\n",
    "result = srv.call(req)\n",
    "print(result)"
   ]
  },
  {
   "cell_type": "code",
   "execution_count": 12,
   "metadata": {},
   "outputs": [
    {
     "name": "stdout",
     "output_type": "stream",
     "text": [
      "{'success': True, 'message': 'Sucessfully planned to 1 of 1 path points.'}\n"
     ]
    }
   ],
   "source": [
    "### Move to a goal point with the gripper direction defined by a quaternion\n",
    "srv = roslibpy.Service(client, '/helix_cartesian_control_node/go_to_gripper_pose_quat', 'helix_transmission_interfaces/GoToGripperPoseQuat')\n",
    "req = roslibpy.ServiceRequest({\n",
    "    \"goal_pose\":\n",
    "  {\n",
    "    \"position\":{\"x\": 0, \"y\": -0.25, \"z\": -0.4},\n",
    "    \"orientation\":{\"x\": 0.7071, \"y\": 0, \"z\": 0, \"w\": 0.7071}\n",
    "  }\n",
    "})\n",
    "result = srv.call(req)\n",
    "print(result)"
   ]
  },
  {
   "cell_type": "code",
   "execution_count": 8,
   "metadata": {},
   "outputs": [
    {
     "name": "stdout",
     "output_type": "stream",
     "text": [
      "{'success': True, 'message': 'Sucessfully planned to 1 of 1 path points.'}\n"
     ]
    }
   ],
   "source": [
    "### Move to a goal point with the gripper direction defined by a set of Euler angles\n",
    "srv = roslibpy.Service(client, '/helix_cartesian_control_node/go_to_gripper_pose_euler', 'helix_transmission_interfaces/GoToGripperPoseEuler')\n",
    "req = roslibpy.ServiceRequest({\n",
    "  \"goal_point\":{\"x\": 0, \"y\": 0.25, \"z\": -0.4},\n",
    "  \"goal_euler_angs\":[-1.57, 0, 0],\n",
    "  \"axes\":\"sxyz\"\n",
    "})\n",
    "result = srv.call(req)\n",
    "print(result)"
   ]
  },
  {
   "cell_type": "code",
   "execution_count": 21,
   "metadata": {},
   "outputs": [
    {
     "name": "stdout",
     "output_type": "stream",
     "text": [
      "{'success': True, 'message': 'Sucessfully planned to 1 of 1 path points.'}\n"
     ]
    }
   ],
   "source": [
    "### Move to a goal in the 'arm_base' frame\n",
    "srv = roslibpy.Service(client, '/helix_cartesian_control_node/go_to_gripper_pose_vector', 'helix_transmission_interfaces/GoToGripperPoseVector')\n",
    "req = roslibpy.ServiceRequest({\n",
    "  \"frame_id\":\"arm_base\",\n",
    "  \"goal_point\":{\"x\": 0, \"y\": 0.25, \"z\": 0.4},\n",
    "  \"goal_direction\":{\"x\": 0, \"y\": 1, \"z\": 0}\n",
    "})\n",
    "result = srv.call(req)\n",
    "print(result)"
   ]
  },
  {
   "cell_type": "code",
   "execution_count": 22,
   "metadata": {},
   "outputs": [
    {
     "name": "stdout",
     "output_type": "stream",
     "text": [
      "{'success': True, 'message': 'Sucessfully planned to 6 of 6 path points.'}\n"
     ]
    }
   ],
   "source": [
    "### Move to a goal, planning a linear trajectory for the end effector\n",
    "srv = roslibpy.Service(client, '/helix_cartesian_control_node/go_to_gripper_pose_vector', 'helix_transmission_interfaces/GoToGripperPoseVector')\n",
    "req = roslibpy.ServiceRequest({\n",
    "  \"goal_point\":{\"x\": 0, \"y\": 0, \"z\": -0.6},\n",
    "  \"goal_direction\":{\"x\": 0, \"y\": 0, \"z\": -1},\n",
    "  \"plan_linear\":True\n",
    "})\n",
    "result = srv.call(req)\n",
    "print(result)"
   ]
  },
  {
   "cell_type": "markdown",
   "metadata": {},
   "source": [
    "Terminate client after finishing the program"
   ]
  },
  {
   "cell_type": "code",
   "execution_count": 132,
   "metadata": {},
   "outputs": [
    {
     "ename": "AttributeError",
     "evalue": "'TwistedEventLoopManager' object has no attribute '_thread'",
     "output_type": "error",
     "traceback": [
      "\u001b[0;31m---------------------------------------------------------------------------\u001b[0m",
      "\u001b[0;31mAttributeError\u001b[0m                            Traceback (most recent call last)",
      "Cell \u001b[0;32mIn[132], line 1\u001b[0m\n\u001b[0;32m----> 1\u001b[0m \u001b[43mclient\u001b[49m\u001b[38;5;241;43m.\u001b[39;49m\u001b[43mterminate\u001b[49m\u001b[43m(\u001b[49m\u001b[43m)\u001b[49m\n",
      "File \u001b[0;32m~/Helix/.venv/lib/python3.8/site-packages/roslibpy/ros.py:143\u001b[0m, in \u001b[0;36mRos.terminate\u001b[0;34m(self)\u001b[0m\n\u001b[1;32m    140\u001b[0m \u001b[38;5;28;01mif\u001b[39;00m \u001b[38;5;28mself\u001b[39m\u001b[38;5;241m.\u001b[39mis_connected:\n\u001b[1;32m    141\u001b[0m     \u001b[38;5;28mself\u001b[39m\u001b[38;5;241m.\u001b[39mclose()\n\u001b[0;32m--> 143\u001b[0m \u001b[38;5;28;43mself\u001b[39;49m\u001b[38;5;241;43m.\u001b[39;49m\u001b[43mfactory\u001b[49m\u001b[38;5;241;43m.\u001b[39;49m\u001b[43mmanager\u001b[49m\u001b[38;5;241;43m.\u001b[39;49m\u001b[43mterminate\u001b[49m\u001b[43m(\u001b[49m\u001b[43m)\u001b[49m\n",
      "File \u001b[0;32m~/Helix/.venv/lib/python3.8/site-packages/roslibpy/comm/comm_autobahn.py:273\u001b[0m, in \u001b[0;36mTwistedEventLoopManager.terminate\u001b[0;34m(self)\u001b[0m\n\u001b[1;32m    270\u001b[0m \u001b[38;5;28;01mif\u001b[39;00m reactor\u001b[38;5;241m.\u001b[39mrunning:\n\u001b[1;32m    271\u001b[0m     reactor\u001b[38;5;241m.\u001b[39mcallFromThread(reactor\u001b[38;5;241m.\u001b[39mstop)\n\u001b[0;32m--> 273\u001b[0m \u001b[38;5;28;01mif\u001b[39;00m \u001b[38;5;28;43mself\u001b[39;49m\u001b[38;5;241;43m.\u001b[39;49m\u001b[43m_thread\u001b[49m:\n\u001b[1;32m    274\u001b[0m     \u001b[38;5;28mself\u001b[39m\u001b[38;5;241m.\u001b[39m_thread\u001b[38;5;241m.\u001b[39mjoin()\n\u001b[1;32m    276\u001b[0m \u001b[38;5;28mself\u001b[39m\u001b[38;5;241m.\u001b[39m_log_observer\u001b[38;5;241m.\u001b[39mstop()\n",
      "\u001b[0;31mAttributeError\u001b[0m: 'TwistedEventLoopManager' object has no attribute '_thread'"
     ]
    }
   ],
   "source": [
    "client.terminate()"
   ]
  }
 ],
 "metadata": {
  "kernelspec": {
   "display_name": "Python 3",
   "language": "python",
   "name": "python3"
  },
  "language_info": {
   "codemirror_mode": {
    "name": "ipython",
    "version": 3
   },
   "file_extension": ".py",
   "mimetype": "text/x-python",
   "name": "python",
   "nbconvert_exporter": "python",
   "pygments_lexer": "ipython3",
   "version": "3.8.10"
  }
 },
 "nbformat": 4,
 "nbformat_minor": 2
}
