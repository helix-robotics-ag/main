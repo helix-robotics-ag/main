{
 "cells": [
  {
   "cell_type": "markdown",
   "metadata": {},
   "source": [
    "# Helix Python script demo\n",
    "This notebook contains instructions and step by step examples on how to use functions associated to Helix v1 and troubleshooting in case of failure. This notebook should be executed one cell at a time and check that outputs are coherent.\n",
    "## Setup\n",
    "### Connect to Pi's rosbridge server"
   ]
  },
  {
   "cell_type": "code",
   "execution_count": null,
   "metadata": {},
   "outputs": [],
   "source": [
    "import roslibpy\n",
    "import time\n",
    "import numpy as np\n",
    "\n",
    "# Connect to the Pi's rosbridge server over port 9090\n",
    "client = roslibpy.Ros(host='192.168.86.161', port=9090) # The host is the Pi's IP address\n",
    "client.run()\n",
    "\n",
    "# Check that the connecting worked\n",
    "print('Is ROS connected?', client.is_connected)"
   ]
  },
  {
   "cell_type": "markdown",
   "metadata": {},
   "source": [
    "If the output is: `Is ROS connected ? True`, proceed to the next step. If not, check the host and port addresses, and make sure that all docker containers on the RPi are running correctly (check documentation [here](https://github.com/helix-robotics-ag/main?tab=readme-ov-file))\n",
    "\n",
    "### Check available topics and services (optional)\n",
    "\n",
    "Verify that all desired topics and services are available. Usefull for a quick sanity check"
   ]
  },
  {
   "cell_type": "code",
   "execution_count": null,
   "metadata": {},
   "outputs": [],
   "source": [
    "# Check which topics can be seen\n",
    "print('ROS Topics: ', client.get_topics())\n",
    "\n",
    "# Check which services can be seen\n",
    "print('Ros Services: ', client.get_services())"
   ]
  },
  {
   "cell_type": "markdown",
   "metadata": {},
   "source": [
    "## Calibration\n",
    "\n",
    "For now the calibration is done through different functions depending on the state of the manipulator. The workflow will be roughly as follows:\n",
    "1. Loosen up all tendons and make the arm roughly straight\n",
    "2. Add tension to the tendons and straighten up the manipulator to it's zero state\n",
    "3. Create or update existing calibration file\n",
    "\n",
    "### Loosen up all tendons\n",
    "\n",
    "This step is required if some tendons are tense and the arm isn't straight. Use the following service to release the tension: "
   ]
  },
  {
   "cell_type": "code",
   "execution_count": null,
   "metadata": {},
   "outputs": [],
   "source": [
    "# Switch to current control\n",
    "srv = roslibpy.Service(client, '/tendon_transmission_node/switch_to_current_control', 'std_srvs/Trigger')\n",
    "set_curr_rq = roslibpy.ServiceRequest()\n",
    "result = srv.call(set_curr_rq)\n",
    "print(result)\n",
    "\n",
    "# Unwind tendon\n",
    "srv = roslibpy.Service(client, '/tendon_transmission_node/set_unwind_current', 'std_srvs/Trigger')\n",
    "set_curr_rq = roslibpy.ServiceRequest()\n",
    "result = srv.call(set_curr_rq)\n",
    "print(result)"
   ]
  },
  {
   "cell_type": "markdown",
   "metadata": {},
   "source": [
    "Stop the motors when tendons are no longer tense:"
   ]
  },
  {
   "cell_type": "code",
   "execution_count": null,
   "metadata": {},
   "outputs": [],
   "source": [
    "# Stop motors from turning\n",
    "srv = roslibpy.Service(client, '/tendon_transmission_node/set_zero_current', 'std_srvs/Trigger')\n",
    "set_curr_rq = roslibpy.ServiceRequest()\n",
    "result = srv.call(set_curr_rq)\n",
    "print(result)"
   ]
  },
  {
   "cell_type": "markdown",
   "metadata": {},
   "source": [
    "### Add tension and straighten the manipulator"
   ]
  },
  {
   "cell_type": "code",
   "execution_count": null,
   "metadata": {},
   "outputs": [],
   "source": [
    "# Switch to current control\n",
    "srv = roslibpy.Service(client, '/tendon_transmission_node/switch_to_current_control', 'std_srvs/Trigger')\n",
    "set_curr_rq = roslibpy.ServiceRequest()\n",
    "result = srv.call(set_curr_rq)\n",
    "print(result)\n",
    "\n",
    "# Add tension\n",
    "srv = roslibpy.Service(client, '/tendon_transmission_node/set_holding_current', 'std_srvs/Trigger')\n",
    "set_curr_rq = roslibpy.ServiceRequest()\n",
    "result = srv.call(set_curr_rq)\n",
    "print(result)"
   ]
  },
  {
   "cell_type": "markdown",
   "metadata": {},
   "source": [
    "### Update calibration file\n",
    "\n",
    "After moving the manipulator to the desired zero position, save the calibration file:"
   ]
  },
  {
   "cell_type": "code",
   "execution_count": null,
   "metadata": {},
   "outputs": [],
   "source": [
    "# Save calibration file\n",
    "srv = roslibpy.Service(client, '/tendon_transmission_node/set_motor_offsets', 'std_srvs/Trigger')\n",
    "set_curr_rq = roslibpy.ServiceRequest()\n",
    "result = srv.call(set_curr_rq)\n",
    "print(result)\n",
    "\n",
    "# Switch to position control\n",
    "srv = roslibpy.Service(client, '/tendon_transmission_node/switch_to_position_control', 'std_srvs/Trigger')\n",
    "set_curr_rq = roslibpy.ServiceRequest()\n",
    "result = srv.call(set_curr_rq)\n",
    "print(result)"
   ]
  },
  {
   "cell_type": "markdown",
   "metadata": {},
   "source": [
    "**Bonus**: To reuse an old calibration instead of having to straighten up the manipulator, execute this code after adding tension to the tendons:"
   ]
  },
  {
   "cell_type": "code",
   "execution_count": null,
   "metadata": {},
   "outputs": [],
   "source": [
    "# Check old calibration\n",
    "srv = roslibpy.Service(client, '/tendon_transmission_node/check_calibration', 'std_srvs/Trigger')\n",
    "set_curr_rq = roslibpy.ServiceRequest()\n",
    "result = srv.call(set_curr_rq)\n",
    "print(result)\n",
    "\n",
    "# Switch to position control\n",
    "srv = roslibpy.Service(client, '/tendon_transmission_node/switch_to_position_control', 'std_srvs/Trigger')\n",
    "set_curr_rq = roslibpy.ServiceRequest()\n",
    "result = srv.call(set_curr_rq)\n",
    "print(result)"
   ]
  },
  {
   "cell_type": "markdown",
   "metadata": {},
   "source": [
    "## Tendon length control\n",
    "\n",
    "Simple example using closed loop tendon length control with ROS Topics:\n",
    "1. Subscribe to `/tendon_transmission_node/tendon_states` to obtain measured tendon lengths\n",
    "2. Once a message is received, compute command\n",
    "3. Publish commands using `/tendon_transmission_node/commands` topic. Commands are also tendon length"
   ]
  },
  {
   "cell_type": "code",
   "execution_count": null,
   "metadata": {},
   "outputs": [],
   "source": [
    "# Subscribe to the tendon state information topic\n",
    "listener = roslibpy.Topic(client, '/tendon_transmission_node/tendon_states', 'sensor_msgs/msg/JointState')\n",
    "def listener_callback(message):\n",
    "    print('Reading from /tendon_transmission_node/tendon_states')\n",
    "    joint_names = message['name']\n",
    "    tendon_positions = message['position']\n",
    "    global j, jn\n",
    "    # Construct a joint command in order\n",
    "    jn =  sorted(joint_names) \n",
    "    j  = [tendon_positions[joint_names.index('joint0')],\n",
    "          tendon_positions[joint_names.index('joint1')],\n",
    "          tendon_positions[joint_names.index('joint2')],\n",
    "          tendon_positions[joint_names.index('joint3')],\n",
    "          tendon_positions[joint_names.index('joint4')],\n",
    "          tendon_positions[joint_names.index('joint5')],\n",
    "          tendon_positions[joint_names.index('joint6')]+0.02, # Increase tendon lengths (loosen) in 3rd section by 2cm\n",
    "          tendon_positions[joint_names.index('joint7')]+0.02,\n",
    "          tendon_positions[joint_names.index('joint8')]+0.02]\n",
    "    # Stop listening after the first message\n",
    "    listener.unsubscribe()\n",
    "listener.subscribe(listener_callback)\n",
    "\n",
    "# Advertise to the command topic on the tendon transmission controller\n",
    "talker = roslibpy.Topic(client, '/tendon_transmission_node/commands', 'std_msgs/msg/Float64MultiArray')\n",
    "\n",
    "# Wait to receive message on /tendon_transmission_node/tendon_states\n",
    "time.sleep(1)\n",
    "\n",
    "# The listener callback has executed by now\n",
    "print('Commanding joint names: ', jn)\n",
    "print('Commanding tendon positions: ', j)\n",
    "print('Press any key to publish command to/tendon_transmission_node/commands')\n",
    "input()\n",
    "talker.publish(roslibpy.Message({'data': j}))\n",
    "\n",
    "# Wait to make sure the command is sent before killing the client\n",
    "time.sleep(1)"
   ]
  },
  {
   "cell_type": "markdown",
   "metadata": {},
   "source": [
    "Another example using open loop control with slower movement (*UNTESTED*)"
   ]
  },
  {
   "cell_type": "code",
   "execution_count": null,
   "metadata": {},
   "outputs": [],
   "source": [
    "import numpy as np\n",
    "import roslibpy\n",
    "\n",
    "# Create start position\n",
    "zero = [0,0,0,0,0,0,0,0,0] \n",
    "\n",
    "# Create end position\n",
    "j = [0,0,0,0,0,0,0,0,0]\n",
    "j[0] = 0.06\n",
    "j[3] = 0.06\n",
    "j[6] = 0.06\n",
    "\n",
    "# Create slowed down trajectory\n",
    "T = 3 # time to move from zero to desired position (in seconds)\n",
    "Update_freq = 50 # Update frequency of the commands (in Hertz) TODO: Test different update frequencies\n",
    "Dxl_Positions = np.linspace(zero, j, num=T*Update_freq)\n",
    "\n",
    "# Advertise to the command topic on the joint position controller\n",
    "talker = roslibpy.Topic(client, '/tendon_transmission_node/commands', 'std_msgs/msg/Float64MultiArray')\n",
    "\n",
    "# Publish position commands\n",
    "for ele in Dxl_Positions:\n",
    "    talker.publish(roslibpy.Message({'data': ele})) # Note that the controller command topic receives the joint positions in order\n",
    "    time.sleep(1/Update_freq)"
   ]
  },
  {
   "cell_type": "markdown",
   "metadata": {},
   "source": [
    "Terminate client after finishing the program"
   ]
  },
  {
   "cell_type": "code",
   "execution_count": null,
   "metadata": {},
   "outputs": [],
   "source": [
    "client.terminate()"
   ]
  }
 ],
 "metadata": {
  "kernelspec": {
   "display_name": "Python 3",
   "language": "python",
   "name": "python3"
  },
  "language_info": {
   "codemirror_mode": {
    "name": "ipython",
    "version": 3
   },
   "file_extension": ".py",
   "mimetype": "text/x-python",
   "name": "python",
   "nbconvert_exporter": "python",
   "pygments_lexer": "ipython3",
   "version": "3.12.1"
  }
 },
 "nbformat": 4,
 "nbformat_minor": 2
}
